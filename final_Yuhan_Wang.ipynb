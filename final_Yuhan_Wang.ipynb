{
 "cells": [
  {
   "cell_type": "code",
   "execution_count": 4,
   "metadata": {
    "ExecuteTime": {
     "end_time": "2019-05-16T19:50:36.312891Z",
     "start_time": "2019-05-16T19:50:35.548049Z"
    }
   },
   "outputs": [],
   "source": [
    "import pandas as pd\n",
    "import numpy as np\n",
    "import matplotlib.pyplot as plt\n",
    "from collections import Counter, defaultdict\n",
    "import plotly\n",
    "import plotly.plotly as py\n",
    "import plotly.graph_objs as go\n",
    "import seaborn as sns"
   ]
  },
  {
   "cell_type": "code",
   "execution_count": 174,
   "metadata": {
    "ExecuteTime": {
     "end_time": "2019-05-17T00:47:48.019124Z",
     "start_time": "2019-05-17T00:47:35.432547Z"
    }
   },
   "outputs": [],
   "source": [
    "facility = pd.read_csv('motor-vehicle-crashes-by-facility-port-authority-of-ny-nj-beginning-2000.csv')\n",
    "case = pd.read_csv('motor-vehicle-crashes-case-information-three-year-window.csv')\n",
    "individual = pd.read_csv('motor-vehicle-crashes-individual-information-three-year-window.csv')\n",
    "vehicle = pd.read_csv('motor-vehicle-crashes-vehicle-information-three-year-window.csv')\n",
    "violation = pd.read_csv('motor-vehicle-crashes-violation-information-three-year-window.csv')\n",
    "insurance = pd.read_csv('motor-vehicle-point-insurance-reduction-program-pirp-participation-five-year-window.csv')"
   ]
  },
  {
   "cell_type": "code",
   "execution_count": 182,
   "metadata": {
    "ExecuteTime": {
     "end_time": "2019-05-17T00:56:39.081347Z",
     "start_time": "2019-05-17T00:56:39.020307Z"
    }
   },
   "outputs": [
    {
     "name": "stdout",
     "output_type": "stream",
     "text": [
      "Facility:\n"
     ]
    },
    {
     "data": {
      "text/html": [
       "<div>\n",
       "<style scoped>\n",
       "    .dataframe tbody tr th:only-of-type {\n",
       "        vertical-align: middle;\n",
       "    }\n",
       "\n",
       "    .dataframe tbody tr th {\n",
       "        vertical-align: top;\n",
       "    }\n",
       "\n",
       "    .dataframe thead th {\n",
       "        text-align: right;\n",
       "    }\n",
       "</style>\n",
       "<table border=\"1\" class=\"dataframe\">\n",
       "  <thead>\n",
       "    <tr style=\"text-align: right;\">\n",
       "      <th></th>\n",
       "      <th>Facility</th>\n",
       "      <th>Year</th>\n",
       "      <th>Total  Number of Motor Vehicle Crashes</th>\n",
       "      <th>Number of Fatal Crashes</th>\n",
       "    </tr>\n",
       "  </thead>\n",
       "  <tbody>\n",
       "    <tr>\n",
       "      <th>0</th>\n",
       "      <td>Bayonne Bridge</td>\n",
       "      <td>2000</td>\n",
       "      <td>24</td>\n",
       "      <td>0</td>\n",
       "    </tr>\n",
       "    <tr>\n",
       "      <th>1</th>\n",
       "      <td>Bayonne Bridge</td>\n",
       "      <td>2001</td>\n",
       "      <td>19</td>\n",
       "      <td>1</td>\n",
       "    </tr>\n",
       "    <tr>\n",
       "      <th>2</th>\n",
       "      <td>Bayonne Bridge</td>\n",
       "      <td>2002</td>\n",
       "      <td>13</td>\n",
       "      <td>0</td>\n",
       "    </tr>\n",
       "  </tbody>\n",
       "</table>\n",
       "</div>"
      ],
      "text/plain": [
       "         Facility  Year  Total  Number of Motor Vehicle Crashes  \\\n",
       "0  Bayonne Bridge  2000                                      24   \n",
       "1  Bayonne Bridge  2001                                      19   \n",
       "2  Bayonne Bridge  2002                                      13   \n",
       "\n",
       "   Number of Fatal Crashes  \n",
       "0                        0  \n",
       "1                        1  \n",
       "2                        0  "
      ]
     },
     "metadata": {},
     "output_type": "display_data"
    },
    {
     "name": "stdout",
     "output_type": "stream",
     "text": [
      "Case:\n"
     ]
    },
    {
     "data": {
      "text/html": [
       "<div>\n",
       "<style scoped>\n",
       "    .dataframe tbody tr th:only-of-type {\n",
       "        vertical-align: middle;\n",
       "    }\n",
       "\n",
       "    .dataframe tbody tr th {\n",
       "        vertical-align: top;\n",
       "    }\n",
       "\n",
       "    .dataframe thead th {\n",
       "        text-align: right;\n",
       "    }\n",
       "</style>\n",
       "<table border=\"1\" class=\"dataframe\">\n",
       "  <thead>\n",
       "    <tr style=\"text-align: right;\">\n",
       "      <th></th>\n",
       "      <th>Year</th>\n",
       "      <th>Crash Descriptor</th>\n",
       "      <th>Time</th>\n",
       "      <th>Date</th>\n",
       "      <th>Day of Week</th>\n",
       "      <th>Police Report</th>\n",
       "      <th>Lighting Conditions</th>\n",
       "      <th>Municipality</th>\n",
       "      <th>Collision Type Descriptor</th>\n",
       "      <th>County Name</th>\n",
       "      <th>Road Descriptor</th>\n",
       "      <th>Weather Conditions</th>\n",
       "      <th>Traffic Control Device</th>\n",
       "      <th>Road Surface Conditions</th>\n",
       "      <th>DOT Reference Marker Location</th>\n",
       "      <th>Pedestrian Bicyclist Action</th>\n",
       "      <th>Event Descriptor</th>\n",
       "      <th>Number of Vehicles Involved</th>\n",
       "    </tr>\n",
       "  </thead>\n",
       "  <tbody>\n",
       "    <tr>\n",
       "      <th>0</th>\n",
       "      <td>2014</td>\n",
       "      <td>Property Damage Accident</td>\n",
       "      <td>8:30</td>\n",
       "      <td>2014-01-03T00:00:00</td>\n",
       "      <td>Friday</td>\n",
       "      <td>Y</td>\n",
       "      <td>Daylight</td>\n",
       "      <td>WATERTOWN</td>\n",
       "      <td>OVERTAKING</td>\n",
       "      <td>JEFFERSON</td>\n",
       "      <td>Straight and Level</td>\n",
       "      <td>Clear</td>\n",
       "      <td>None</td>\n",
       "      <td>Snow/Ice</td>\n",
       "      <td>NaN</td>\n",
       "      <td>Not Applicable</td>\n",
       "      <td>Other Motor Vehicle, Collision With</td>\n",
       "      <td>2</td>\n",
       "    </tr>\n",
       "    <tr>\n",
       "      <th>1</th>\n",
       "      <td>2014</td>\n",
       "      <td>Property Damage &amp; Injury Accident</td>\n",
       "      <td>14:48</td>\n",
       "      <td>2014-01-03T00:00:00</td>\n",
       "      <td>Friday</td>\n",
       "      <td>Y</td>\n",
       "      <td>Daylight</td>\n",
       "      <td>WATERTOWN</td>\n",
       "      <td>REAR END</td>\n",
       "      <td>JEFFERSON</td>\n",
       "      <td>Straight and Level</td>\n",
       "      <td>Cloudy</td>\n",
       "      <td>Traffic Signal</td>\n",
       "      <td>Snow/Ice</td>\n",
       "      <td>3 73022024</td>\n",
       "      <td>Not Applicable</td>\n",
       "      <td>Other Motor Vehicle, Collision With</td>\n",
       "      <td>2</td>\n",
       "    </tr>\n",
       "    <tr>\n",
       "      <th>2</th>\n",
       "      <td>2014</td>\n",
       "      <td>Property Damage &amp; Injury Accident</td>\n",
       "      <td>11:30</td>\n",
       "      <td>2014-01-04T00:00:00</td>\n",
       "      <td>Saturday</td>\n",
       "      <td>Y</td>\n",
       "      <td>Daylight</td>\n",
       "      <td>WATERTOWN</td>\n",
       "      <td>OTHER</td>\n",
       "      <td>JEFFERSON</td>\n",
       "      <td>Straight and Grade</td>\n",
       "      <td>Clear</td>\n",
       "      <td>None</td>\n",
       "      <td>Snow/Ice</td>\n",
       "      <td>NaN</td>\n",
       "      <td>Not Applicable</td>\n",
       "      <td>Building/Wall, Collision With Fixed Object</td>\n",
       "      <td>1</td>\n",
       "    </tr>\n",
       "  </tbody>\n",
       "</table>\n",
       "</div>"
      ],
      "text/plain": [
       "   Year                   Crash Descriptor   Time                 Date  \\\n",
       "0  2014           Property Damage Accident   8:30  2014-01-03T00:00:00   \n",
       "1  2014  Property Damage & Injury Accident  14:48  2014-01-03T00:00:00   \n",
       "2  2014  Property Damage & Injury Accident  11:30  2014-01-04T00:00:00   \n",
       "\n",
       "  Day of Week Police Report Lighting Conditions Municipality  \\\n",
       "0      Friday             Y            Daylight    WATERTOWN   \n",
       "1      Friday             Y            Daylight    WATERTOWN   \n",
       "2    Saturday             Y            Daylight    WATERTOWN   \n",
       "\n",
       "  Collision Type Descriptor County Name     Road Descriptor  \\\n",
       "0                OVERTAKING   JEFFERSON  Straight and Level   \n",
       "1                  REAR END   JEFFERSON  Straight and Level   \n",
       "2                     OTHER   JEFFERSON  Straight and Grade   \n",
       "\n",
       "  Weather Conditions Traffic Control Device Road Surface Conditions  \\\n",
       "0              Clear                   None                Snow/Ice   \n",
       "1             Cloudy         Traffic Signal                Snow/Ice   \n",
       "2              Clear                   None                Snow/Ice   \n",
       "\n",
       "  DOT Reference Marker Location Pedestrian Bicyclist Action  \\\n",
       "0                           NaN              Not Applicable   \n",
       "1                    3 73022024              Not Applicable   \n",
       "2                           NaN              Not Applicable   \n",
       "\n",
       "                             Event Descriptor  Number of Vehicles Involved  \n",
       "0         Other Motor Vehicle, Collision With                            2  \n",
       "1         Other Motor Vehicle, Collision With                            2  \n",
       "2  Building/Wall, Collision With Fixed Object                            1  "
      ]
     },
     "metadata": {},
     "output_type": "display_data"
    },
    {
     "name": "stdout",
     "output_type": "stream",
     "text": [
      "Individual:\n"
     ]
    },
    {
     "data": {
      "text/html": [
       "<div>\n",
       "<style scoped>\n",
       "    .dataframe tbody tr th:only-of-type {\n",
       "        vertical-align: middle;\n",
       "    }\n",
       "\n",
       "    .dataframe tbody tr th {\n",
       "        vertical-align: top;\n",
       "    }\n",
       "\n",
       "    .dataframe thead th {\n",
       "        text-align: right;\n",
       "    }\n",
       "</style>\n",
       "<table border=\"1\" class=\"dataframe\">\n",
       "  <thead>\n",
       "    <tr style=\"text-align: right;\">\n",
       "      <th></th>\n",
       "      <th>Year</th>\n",
       "      <th>Case Individual ID</th>\n",
       "      <th>Case Vehicle ID</th>\n",
       "      <th>Victim Status</th>\n",
       "      <th>Role Type</th>\n",
       "      <th>Seating Position</th>\n",
       "      <th>Ejection</th>\n",
       "      <th>License State Code</th>\n",
       "      <th>Sex</th>\n",
       "      <th>Transported By</th>\n",
       "      <th>Safety Equipment</th>\n",
       "      <th>Injury Descriptor</th>\n",
       "      <th>Injury Location</th>\n",
       "      <th>Injury Severity</th>\n",
       "      <th>Age</th>\n",
       "    </tr>\n",
       "  </thead>\n",
       "  <tbody>\n",
       "    <tr>\n",
       "      <th>0</th>\n",
       "      <td>2014</td>\n",
       "      <td>15799027</td>\n",
       "      <td>12117200</td>\n",
       "      <td>Conscious</td>\n",
       "      <td>Driver of a Motor Vehicle in Transport</td>\n",
       "      <td>Driver</td>\n",
       "      <td>Not Ejected</td>\n",
       "      <td>NY</td>\n",
       "      <td>M</td>\n",
       "      <td>Not Entered</td>\n",
       "      <td>Lap Belt/Harness</td>\n",
       "      <td>Complaint of Pain</td>\n",
       "      <td>Shoulder-Upper Arm</td>\n",
       "      <td>Minor</td>\n",
       "      <td>43.0</td>\n",
       "    </tr>\n",
       "    <tr>\n",
       "      <th>1</th>\n",
       "      <td>2014</td>\n",
       "      <td>15743949</td>\n",
       "      <td>12076145</td>\n",
       "      <td>Not Applicable</td>\n",
       "      <td>Passenger of a Motor Vehicle in Transport</td>\n",
       "      <td>Passenger - 3 Front Right</td>\n",
       "      <td>Not Ejected</td>\n",
       "      <td>NaN</td>\n",
       "      <td>F</td>\n",
       "      <td>Not Entered</td>\n",
       "      <td>Lap Belt/Harness</td>\n",
       "      <td>Not Applicable</td>\n",
       "      <td>Not Applicable</td>\n",
       "      <td>Uninjured</td>\n",
       "      <td>38.0</td>\n",
       "    </tr>\n",
       "    <tr>\n",
       "      <th>2</th>\n",
       "      <td>2014</td>\n",
       "      <td>15444687</td>\n",
       "      <td>11856196</td>\n",
       "      <td>Not Applicable</td>\n",
       "      <td>Driver of a Motor Vehicle in Transport</td>\n",
       "      <td>Driver</td>\n",
       "      <td>Not Ejected</td>\n",
       "      <td>NY</td>\n",
       "      <td>F</td>\n",
       "      <td>Not Entered</td>\n",
       "      <td>Lap Belt/Harness</td>\n",
       "      <td>Not Applicable</td>\n",
       "      <td>Not Applicable</td>\n",
       "      <td>Uninjured</td>\n",
       "      <td>40.0</td>\n",
       "    </tr>\n",
       "  </tbody>\n",
       "</table>\n",
       "</div>"
      ],
      "text/plain": [
       "   Year  Case Individual ID  Case Vehicle ID   Victim Status  \\\n",
       "0  2014            15799027         12117200       Conscious   \n",
       "1  2014            15743949         12076145  Not Applicable   \n",
       "2  2014            15444687         11856196  Not Applicable   \n",
       "\n",
       "                                   Role Type           Seating Position  \\\n",
       "0     Driver of a Motor Vehicle in Transport                     Driver   \n",
       "1  Passenger of a Motor Vehicle in Transport  Passenger - 3 Front Right   \n",
       "2     Driver of a Motor Vehicle in Transport                     Driver   \n",
       "\n",
       "      Ejection License State Code Sex Transported By  Safety Equipment  \\\n",
       "0  Not Ejected                 NY   M    Not Entered  Lap Belt/Harness   \n",
       "1  Not Ejected                NaN   F    Not Entered  Lap Belt/Harness   \n",
       "2  Not Ejected                 NY   F    Not Entered  Lap Belt/Harness   \n",
       "\n",
       "   Injury Descriptor     Injury Location Injury Severity   Age  \n",
       "0  Complaint of Pain  Shoulder-Upper Arm           Minor  43.0  \n",
       "1     Not Applicable      Not Applicable       Uninjured  38.0  \n",
       "2     Not Applicable      Not Applicable       Uninjured  40.0  "
      ]
     },
     "metadata": {},
     "output_type": "display_data"
    },
    {
     "name": "stdout",
     "output_type": "stream",
     "text": [
      "Vehicle:\n"
     ]
    },
    {
     "data": {
      "text/html": [
       "<div>\n",
       "<style scoped>\n",
       "    .dataframe tbody tr th:only-of-type {\n",
       "        vertical-align: middle;\n",
       "    }\n",
       "\n",
       "    .dataframe tbody tr th {\n",
       "        vertical-align: top;\n",
       "    }\n",
       "\n",
       "    .dataframe thead th {\n",
       "        text-align: right;\n",
       "    }\n",
       "</style>\n",
       "<table border=\"1\" class=\"dataframe\">\n",
       "  <thead>\n",
       "    <tr style=\"text-align: right;\">\n",
       "      <th></th>\n",
       "      <th>Year</th>\n",
       "      <th>Case Vehicle ID</th>\n",
       "      <th>Vehicle Body Type</th>\n",
       "      <th>Registration Class</th>\n",
       "      <th>Action Prior to Accident</th>\n",
       "      <th>Type / Axles of Truck or Bus</th>\n",
       "      <th>Direction of Travel</th>\n",
       "      <th>Fuel Type</th>\n",
       "      <th>Vehicle Year</th>\n",
       "      <th>State of Registration</th>\n",
       "      <th>Number of Occupants</th>\n",
       "      <th>Engine Cylinders</th>\n",
       "      <th>Vehicle Make</th>\n",
       "      <th>Contributing Factor 1</th>\n",
       "      <th>Contributing Factor 1 Description</th>\n",
       "      <th>Contributing Factor 2</th>\n",
       "      <th>Contributing Factor 2 Description</th>\n",
       "      <th>Event Type</th>\n",
       "      <th>Partial VIN</th>\n",
       "    </tr>\n",
       "  </thead>\n",
       "  <tbody>\n",
       "    <tr>\n",
       "      <th>0</th>\n",
       "      <td>2014</td>\n",
       "      <td>12100031</td>\n",
       "      <td>UNKNOWN VEHICLE</td>\n",
       "      <td>Not Entered</td>\n",
       "      <td>Unknown</td>\n",
       "      <td>Not Entered</td>\n",
       "      <td>Unknown</td>\n",
       "      <td>Not Entered</td>\n",
       "      <td>NaN</td>\n",
       "      <td>NaN</td>\n",
       "      <td>NaN</td>\n",
       "      <td>NaN</td>\n",
       "      <td>NaN</td>\n",
       "      <td>HUMAN</td>\n",
       "      <td>Not Entered</td>\n",
       "      <td>HUMAN</td>\n",
       "      <td>Not Entered</td>\n",
       "      <td>Not Entered</td>\n",
       "      <td>NaN</td>\n",
       "    </tr>\n",
       "    <tr>\n",
       "      <th>1</th>\n",
       "      <td>2014</td>\n",
       "      <td>12638921</td>\n",
       "      <td>TAXI</td>\n",
       "      <td>Not Entered</td>\n",
       "      <td>Slowing or Stopping</td>\n",
       "      <td>Not Entered</td>\n",
       "      <td>South</td>\n",
       "      <td>Not Entered</td>\n",
       "      <td>NaN</td>\n",
       "      <td>NJ</td>\n",
       "      <td>2.0</td>\n",
       "      <td>NaN</td>\n",
       "      <td>NaN</td>\n",
       "      <td>HUMAN</td>\n",
       "      <td>Unknown</td>\n",
       "      <td>HUMAN</td>\n",
       "      <td>Not Entered</td>\n",
       "      <td>Not Entered</td>\n",
       "      <td>NaN</td>\n",
       "    </tr>\n",
       "    <tr>\n",
       "      <th>2</th>\n",
       "      <td>2014</td>\n",
       "      <td>12011955</td>\n",
       "      <td>UNKNOWN VEHICLE</td>\n",
       "      <td>Not Entered</td>\n",
       "      <td>Unknown</td>\n",
       "      <td>Not Entered</td>\n",
       "      <td>Unknown</td>\n",
       "      <td>Not Entered</td>\n",
       "      <td>NaN</td>\n",
       "      <td>NaN</td>\n",
       "      <td>NaN</td>\n",
       "      <td>NaN</td>\n",
       "      <td>NaN</td>\n",
       "      <td>HUMAN</td>\n",
       "      <td>Not Entered</td>\n",
       "      <td>HUMAN</td>\n",
       "      <td>Not Entered</td>\n",
       "      <td>Not Entered</td>\n",
       "      <td>NaN</td>\n",
       "    </tr>\n",
       "  </tbody>\n",
       "</table>\n",
       "</div>"
      ],
      "text/plain": [
       "   Year  Case Vehicle ID Vehicle Body Type Registration Class  \\\n",
       "0  2014         12100031   UNKNOWN VEHICLE        Not Entered   \n",
       "1  2014         12638921              TAXI        Not Entered   \n",
       "2  2014         12011955   UNKNOWN VEHICLE        Not Entered   \n",
       "\n",
       "  Action Prior to Accident Type / Axles of Truck or Bus Direction of Travel  \\\n",
       "0                  Unknown                  Not Entered             Unknown   \n",
       "1      Slowing or Stopping                  Not Entered               South   \n",
       "2                  Unknown                  Not Entered             Unknown   \n",
       "\n",
       "     Fuel Type  Vehicle Year State of Registration  Number of Occupants  \\\n",
       "0  Not Entered           NaN                   NaN                  NaN   \n",
       "1  Not Entered           NaN                    NJ                  2.0   \n",
       "2  Not Entered           NaN                   NaN                  NaN   \n",
       "\n",
       "   Engine Cylinders Vehicle Make Contributing Factor 1  \\\n",
       "0               NaN          NaN                 HUMAN   \n",
       "1               NaN          NaN                 HUMAN   \n",
       "2               NaN          NaN                 HUMAN   \n",
       "\n",
       "  Contributing Factor 1 Description Contributing Factor 2  \\\n",
       "0                       Not Entered                 HUMAN   \n",
       "1                           Unknown                 HUMAN   \n",
       "2                       Not Entered                 HUMAN   \n",
       "\n",
       "  Contributing Factor 2 Description   Event Type Partial VIN  \n",
       "0                       Not Entered  Not Entered         NaN  \n",
       "1                       Not Entered  Not Entered         NaN  \n",
       "2                       Not Entered  Not Entered         NaN  "
      ]
     },
     "metadata": {},
     "output_type": "display_data"
    },
    {
     "name": "stdout",
     "output_type": "stream",
     "text": [
      "Violation:\n"
     ]
    },
    {
     "data": {
      "text/html": [
       "<div>\n",
       "<style scoped>\n",
       "    .dataframe tbody tr th:only-of-type {\n",
       "        vertical-align: middle;\n",
       "    }\n",
       "\n",
       "    .dataframe tbody tr th {\n",
       "        vertical-align: top;\n",
       "    }\n",
       "\n",
       "    .dataframe thead th {\n",
       "        text-align: right;\n",
       "    }\n",
       "</style>\n",
       "<table border=\"1\" class=\"dataframe\">\n",
       "  <thead>\n",
       "    <tr style=\"text-align: right;\">\n",
       "      <th></th>\n",
       "      <th>Year</th>\n",
       "      <th>Violation Description</th>\n",
       "      <th>Violation Code</th>\n",
       "      <th>Case Individual ID</th>\n",
       "    </tr>\n",
       "  </thead>\n",
       "  <tbody>\n",
       "    <tr>\n",
       "      <th>0</th>\n",
       "      <td>2014</td>\n",
       "      <td>PASSED ON RIGHT</td>\n",
       "      <td>1122A</td>\n",
       "      <td>15943211</td>\n",
       "    </tr>\n",
       "    <tr>\n",
       "      <th>1</th>\n",
       "      <td>2014</td>\n",
       "      <td>FOLLOWING TOO CLOSELY</td>\n",
       "      <td>1129A</td>\n",
       "      <td>15551946</td>\n",
       "    </tr>\n",
       "    <tr>\n",
       "      <th>2</th>\n",
       "      <td>2014</td>\n",
       "      <td>SPEED NOT REASONABLE &amp; PRUDENT</td>\n",
       "      <td>1180A</td>\n",
       "      <td>16054549</td>\n",
       "    </tr>\n",
       "  </tbody>\n",
       "</table>\n",
       "</div>"
      ],
      "text/plain": [
       "   Year           Violation Description Violation Code  Case Individual ID\n",
       "0  2014                 PASSED ON RIGHT          1122A            15943211\n",
       "1  2014           FOLLOWING TOO CLOSELY          1129A            15551946\n",
       "2  2014  SPEED NOT REASONABLE & PRUDENT          1180A            16054549"
      ]
     },
     "metadata": {},
     "output_type": "display_data"
    },
    {
     "name": "stdout",
     "output_type": "stream",
     "text": [
      "Insurance:\n"
     ]
    },
    {
     "data": {
      "text/html": [
       "<div>\n",
       "<style scoped>\n",
       "    .dataframe tbody tr th:only-of-type {\n",
       "        vertical-align: middle;\n",
       "    }\n",
       "\n",
       "    .dataframe tbody tr th {\n",
       "        vertical-align: top;\n",
       "    }\n",
       "\n",
       "    .dataframe thead th {\n",
       "        text-align: right;\n",
       "    }\n",
       "</style>\n",
       "<table border=\"1\" class=\"dataframe\">\n",
       "  <thead>\n",
       "    <tr style=\"text-align: right;\">\n",
       "      <th></th>\n",
       "      <th>Month</th>\n",
       "      <th>Year</th>\n",
       "      <th>Age at Completion</th>\n",
       "      <th>Gender</th>\n",
       "      <th>County of Mailing Address</th>\n",
       "      <th>Sponsor</th>\n",
       "      <th>Delivery Method</th>\n",
       "      <th>Course Completion Count</th>\n",
       "    </tr>\n",
       "  </thead>\n",
       "  <tbody>\n",
       "    <tr>\n",
       "      <th>0</th>\n",
       "      <td>9</td>\n",
       "      <td>2014</td>\n",
       "      <td>58</td>\n",
       "      <td>F</td>\n",
       "      <td>ONEIDA</td>\n",
       "      <td>04 - AARP</td>\n",
       "      <td>CLASSROOM</td>\n",
       "      <td>1</td>\n",
       "    </tr>\n",
       "    <tr>\n",
       "      <th>1</th>\n",
       "      <td>1</td>\n",
       "      <td>2015</td>\n",
       "      <td>20</td>\n",
       "      <td>M</td>\n",
       "      <td>BRONX</td>\n",
       "      <td>25 - USA TRAINING COMP</td>\n",
       "      <td>INTERNET</td>\n",
       "      <td>1</td>\n",
       "    </tr>\n",
       "    <tr>\n",
       "      <th>2</th>\n",
       "      <td>1</td>\n",
       "      <td>2013</td>\n",
       "      <td>43</td>\n",
       "      <td>F</td>\n",
       "      <td>ULSTER</td>\n",
       "      <td>18 - NY SAFETY PROGRAM</td>\n",
       "      <td>CLASSROOM</td>\n",
       "      <td>1</td>\n",
       "    </tr>\n",
       "  </tbody>\n",
       "</table>\n",
       "</div>"
      ],
      "text/plain": [
       "   Month  Year  Age at Completion Gender County of Mailing Address  \\\n",
       "0      9  2014                 58      F                    ONEIDA   \n",
       "1      1  2015                 20      M                     BRONX   \n",
       "2      1  2013                 43      F                    ULSTER   \n",
       "\n",
       "                  Sponsor Delivery Method  Course Completion Count  \n",
       "0               04 - AARP       CLASSROOM                        1  \n",
       "1  25 - USA TRAINING COMP        INTERNET                        1  \n",
       "2  18 - NY SAFETY PROGRAM       CLASSROOM                        1  "
      ]
     },
     "metadata": {},
     "output_type": "display_data"
    }
   ],
   "source": [
    "print('Facility:')\n",
    "display(facility.head(3))\n",
    "print('Case:')\n",
    "display(case.head(3))\n",
    "print('Individual:')\n",
    "display(individual.head(3))\n",
    "print('Vehicle:')\n",
    "display(vehicle.head(3))\n",
    "print('Violation:')\n",
    "display(violation.head(3))\n",
    "print('Insurance:')\n",
    "display(insurance.head(3))"
   ]
  },
  {
   "cell_type": "markdown",
   "metadata": {},
   "source": [
    "how to be safer on road:\n",
    "1. how long should a person be covered by insurance\n",
    "2. which seat position is safer\n",
    "3. which time in a day\n",
    "4. which month\n",
    "5. "
   ]
  },
  {
   "cell_type": "markdown",
   "metadata": {},
   "source": [
    "# Histogram"
   ]
  },
  {
   "cell_type": "code",
   "execution_count": 12,
   "metadata": {
    "ExecuteTime": {
     "end_time": "2019-05-16T20:03:43.763987Z",
     "start_time": "2019-05-16T20:03:42.539398Z"
    }
   },
   "outputs": [
    {
     "data": {
      "text/plain": [
       "<matplotlib.legend.Legend at 0x113ef65c0>"
      ]
     },
     "execution_count": 12,
     "metadata": {},
     "output_type": "execute_result"
    },
    {
     "data": {
      "image/png": "[encoded data removed]",
      "text/plain": [
       "<Figure size 1080x576 with 1 Axes>"
      ]
     },
     "metadata": {
      "needs_background": "light"
     },
     "output_type": "display_data"
    }
   ],
   "source": [
    "plt.figure(figsize=(15,8))\n",
    "sns.distplot(individual[\"Age\"].dropna() , color=\"skyblue\", label=\"Age at the Crash\")\n",
    "sns.distplot(insurance[\"Age at Completion\"].dropna() , color=\"red\", label=\"Age at Completion of Insurance\")\n",
    "plt.title('Histogram of Ages at the Crash and Age at Completion of Insurance')\n",
    "plt.xlabel('Age')\n",
    "plt.ylabel('Percentage of People with a Crash or Insurance Completed at Each Age')\n",
    "plt.legend()"
   ]
  },
  {
   "cell_type": "markdown",
   "metadata": {},
   "source": [
    "# Barplot"
   ]
  },
  {
   "cell_type": "code",
   "execution_count": 23,
   "metadata": {
    "ExecuteTime": {
     "end_time": "2019-05-16T20:30:20.554751Z",
     "start_time": "2019-05-16T20:30:11.032243Z"
    }
   },
   "outputs": [],
   "source": [
    "# merge with vehicle dataset for vehicle type\n",
    "bardata = individual.merge(vehicle, on='Case Vehicle ID', how='inner')\n",
    "\n",
    "# only consider most common vehicle types: suburban and 4 door sedan\n",
    "bardata = bardata[bardata['Vehicle Body Type'].isin(['SUBURBAN', '4 DOOR SEDAN'])]\n",
    "\n",
    "# 'severe crash' if 'severe' or 'killed', 'not severe crash' if 'uninjured' or 'minor'\n",
    "bardata = bardata[bardata['Injury Severity'].isin(['Minor', 'Uninjured', 'Severe', 'Killed'])]\n",
    "bardata['Injury Severity'] = [1 if elem in ['Severe', 'Killed'] else 0 for elem in bardata['Injury Severity']]\n",
    "\n",
    "# ignore unknown sex\n",
    "bardata = bardata[bardata['Sex'].isin(['M', 'F'])]"
   ]
  },
  {
   "cell_type": "code",
   "execution_count": 27,
   "metadata": {
    "ExecuteTime": {
     "end_time": "2019-05-16T20:36:28.577097Z",
     "start_time": "2019-05-16T20:36:27.974069Z"
    }
   },
   "outputs": [
    {
     "data": {
      "text/html": [
       "<div>\n",
       "<style scoped>\n",
       "    .dataframe tbody tr th:only-of-type {\n",
       "        vertical-align: middle;\n",
       "    }\n",
       "\n",
       "    .dataframe tbody tr th {\n",
       "        vertical-align: top;\n",
       "    }\n",
       "\n",
       "    .dataframe thead th {\n",
       "        text-align: right;\n",
       "    }\n",
       "</style>\n",
       "<table border=\"1\" class=\"dataframe\">\n",
       "  <thead>\n",
       "    <tr style=\"text-align: right;\">\n",
       "      <th></th>\n",
       "      <th>Year_x</th>\n",
       "      <th>Case Individual ID</th>\n",
       "      <th>Case Vehicle ID</th>\n",
       "      <th>Victim Status</th>\n",
       "      <th>Role Type</th>\n",
       "      <th>Seating Position</th>\n",
       "      <th>Ejection</th>\n",
       "      <th>License State Code</th>\n",
       "      <th>Sex</th>\n",
       "      <th>Transported By</th>\n",
       "      <th>...</th>\n",
       "      <th>State of Registration</th>\n",
       "      <th>Number of Occupants</th>\n",
       "      <th>Engine Cylinders</th>\n",
       "      <th>Vehicle Make</th>\n",
       "      <th>Contributing Factor 1</th>\n",
       "      <th>Contributing Factor 1 Description</th>\n",
       "      <th>Contributing Factor 2</th>\n",
       "      <th>Contributing Factor 2 Description</th>\n",
       "      <th>Event Type</th>\n",
       "      <th>Partial VIN</th>\n",
       "    </tr>\n",
       "  </thead>\n",
       "  <tbody>\n",
       "    <tr>\n",
       "      <th>0</th>\n",
       "      <td>2014</td>\n",
       "      <td>15799027</td>\n",
       "      <td>12117200</td>\n",
       "      <td>Conscious</td>\n",
       "      <td>Driver of a Motor Vehicle in Transport</td>\n",
       "      <td>Driver</td>\n",
       "      <td>Not Ejected</td>\n",
       "      <td>NY</td>\n",
       "      <td>M</td>\n",
       "      <td>Not Entered</td>\n",
       "      <td>...</td>\n",
       "      <td>NY</td>\n",
       "      <td>1.0</td>\n",
       "      <td>4.0</td>\n",
       "      <td>HONDA</td>\n",
       "      <td>HUMAN</td>\n",
       "      <td>Not Applicable</td>\n",
       "      <td>HUMAN</td>\n",
       "      <td>Not Applicable</td>\n",
       "      <td>Not Applicable</td>\n",
       "      <td>19XFB2F5XDE223873</td>\n",
       "    </tr>\n",
       "    <tr>\n",
       "      <th>1</th>\n",
       "      <td>2014</td>\n",
       "      <td>15743949</td>\n",
       "      <td>12076145</td>\n",
       "      <td>Not Applicable</td>\n",
       "      <td>Passenger of a Motor Vehicle in Transport</td>\n",
       "      <td>Front</td>\n",
       "      <td>Not Ejected</td>\n",
       "      <td>NaN</td>\n",
       "      <td>F</td>\n",
       "      <td>Not Entered</td>\n",
       "      <td>...</td>\n",
       "      <td>NY</td>\n",
       "      <td>5.0</td>\n",
       "      <td>6.0</td>\n",
       "      <td>HONDA</td>\n",
       "      <td>HUMAN</td>\n",
       "      <td>Not Applicable</td>\n",
       "      <td>HUMAN</td>\n",
       "      <td>Not Applicable</td>\n",
       "      <td>Not Applicable</td>\n",
       "      <td>5FNYF18608B015272</td>\n",
       "    </tr>\n",
       "    <tr>\n",
       "      <th>2</th>\n",
       "      <td>2014</td>\n",
       "      <td>15743951</td>\n",
       "      <td>12076145</td>\n",
       "      <td>Not Applicable</td>\n",
       "      <td>Passenger of a Motor Vehicle in Transport</td>\n",
       "      <td>Back</td>\n",
       "      <td>Not Ejected</td>\n",
       "      <td>NaN</td>\n",
       "      <td>M</td>\n",
       "      <td>Not Entered</td>\n",
       "      <td>...</td>\n",
       "      <td>NY</td>\n",
       "      <td>5.0</td>\n",
       "      <td>6.0</td>\n",
       "      <td>HONDA</td>\n",
       "      <td>HUMAN</td>\n",
       "      <td>Not Applicable</td>\n",
       "      <td>HUMAN</td>\n",
       "      <td>Not Applicable</td>\n",
       "      <td>Not Applicable</td>\n",
       "      <td>5FNYF18608B015272</td>\n",
       "    </tr>\n",
       "    <tr>\n",
       "      <th>3</th>\n",
       "      <td>2014</td>\n",
       "      <td>15743948</td>\n",
       "      <td>12076145</td>\n",
       "      <td>Not Applicable</td>\n",
       "      <td>Driver of a Motor Vehicle in Transport</td>\n",
       "      <td>Driver</td>\n",
       "      <td>Not Ejected</td>\n",
       "      <td>NY</td>\n",
       "      <td>M</td>\n",
       "      <td>Not Entered</td>\n",
       "      <td>...</td>\n",
       "      <td>NY</td>\n",
       "      <td>5.0</td>\n",
       "      <td>6.0</td>\n",
       "      <td>HONDA</td>\n",
       "      <td>HUMAN</td>\n",
       "      <td>Not Applicable</td>\n",
       "      <td>HUMAN</td>\n",
       "      <td>Not Applicable</td>\n",
       "      <td>Not Applicable</td>\n",
       "      <td>5FNYF18608B015272</td>\n",
       "    </tr>\n",
       "    <tr>\n",
       "      <th>4</th>\n",
       "      <td>2014</td>\n",
       "      <td>15743952</td>\n",
       "      <td>12076145</td>\n",
       "      <td>Not Applicable</td>\n",
       "      <td>Passenger of a Motor Vehicle in Transport</td>\n",
       "      <td>Back</td>\n",
       "      <td>Not Ejected</td>\n",
       "      <td>NaN</td>\n",
       "      <td>M</td>\n",
       "      <td>Not Entered</td>\n",
       "      <td>...</td>\n",
       "      <td>NY</td>\n",
       "      <td>5.0</td>\n",
       "      <td>6.0</td>\n",
       "      <td>HONDA</td>\n",
       "      <td>HUMAN</td>\n",
       "      <td>Not Applicable</td>\n",
       "      <td>HUMAN</td>\n",
       "      <td>Not Applicable</td>\n",
       "      <td>Not Applicable</td>\n",
       "      <td>5FNYF18608B015272</td>\n",
       "    </tr>\n",
       "  </tbody>\n",
       "</table>\n",
       "<p>5 rows × 33 columns</p>\n",
       "</div>"
      ],
      "text/plain": [
       "   Year_x  Case Individual ID  Case Vehicle ID   Victim Status  \\\n",
       "0    2014            15799027         12117200       Conscious   \n",
       "1    2014            15743949         12076145  Not Applicable   \n",
       "2    2014            15743951         12076145  Not Applicable   \n",
       "3    2014            15743948         12076145  Not Applicable   \n",
       "4    2014            15743952         12076145  Not Applicable   \n",
       "\n",
       "                                   Role Type Seating Position     Ejection  \\\n",
       "0     Driver of a Motor Vehicle in Transport           Driver  Not Ejected   \n",
       "1  Passenger of a Motor Vehicle in Transport            Front  Not Ejected   \n",
       "2  Passenger of a Motor Vehicle in Transport             Back  Not Ejected   \n",
       "3     Driver of a Motor Vehicle in Transport           Driver  Not Ejected   \n",
       "4  Passenger of a Motor Vehicle in Transport             Back  Not Ejected   \n",
       "\n",
       "  License State Code Sex Transported By  ... State of Registration  \\\n",
       "0                 NY   M    Not Entered  ...                    NY   \n",
       "1                NaN   F    Not Entered  ...                    NY   \n",
       "2                NaN   M    Not Entered  ...                    NY   \n",
       "3                 NY   M    Not Entered  ...                    NY   \n",
       "4                NaN   M    Not Entered  ...                    NY   \n",
       "\n",
       "  Number of Occupants Engine Cylinders  Vehicle Make  Contributing Factor 1  \\\n",
       "0                 1.0              4.0         HONDA                  HUMAN   \n",
       "1                 5.0              6.0         HONDA                  HUMAN   \n",
       "2                 5.0              6.0         HONDA                  HUMAN   \n",
       "3                 5.0              6.0         HONDA                  HUMAN   \n",
       "4                 5.0              6.0         HONDA                  HUMAN   \n",
       "\n",
       "   Contributing Factor 1 Description Contributing Factor 2  \\\n",
       "0                     Not Applicable                 HUMAN   \n",
       "1                     Not Applicable                 HUMAN   \n",
       "2                     Not Applicable                 HUMAN   \n",
       "3                     Not Applicable                 HUMAN   \n",
       "4                     Not Applicable                 HUMAN   \n",
       "\n",
       "  Contributing Factor 2 Description      Event Type        Partial VIN  \n",
       "0                    Not Applicable  Not Applicable  19XFB2F5XDE223873  \n",
       "1                    Not Applicable  Not Applicable  5FNYF18608B015272  \n",
       "2                    Not Applicable  Not Applicable  5FNYF18608B015272  \n",
       "3                    Not Applicable  Not Applicable  5FNYF18608B015272  \n",
       "4                    Not Applicable  Not Applicable  5FNYF18608B015272  \n",
       "\n",
       "[5 rows x 33 columns]"
      ]
     },
     "execution_count": 27,
     "metadata": {},
     "output_type": "execute_result"
    }
   ],
   "source": [
    "bardata = bardata[~bardata['Seating Position'].isin(['Unknown Seating Passenger', 'Not Entered', \n",
    "                                                     'Riding/Hanging on Outside', 'Not Applicable',\n",
    "                                                     'Unknown Position In Vehicle'])]\n",
    "bardata['Seating Position'] = bardata['Seating Position'].\\\n",
    "                            apply(lambda x: 'Front' if 'Front' in x else 'Back' if 'Back' in x else 'Driver')\n",
    "bardata.head()"
   ]
  },
  {
   "cell_type": "code",
   "execution_count": 34,
   "metadata": {
    "ExecuteTime": {
     "end_time": "2019-05-16T20:47:55.968414Z",
     "start_time": "2019-05-16T20:47:27.459290Z"
    }
   },
   "outputs": [
    {
     "data": {
      "text/plain": [
       "Text(0.5, 0.98, 'Probability of Getting Injured Severely when Sitting in Different Positions in Cars, distinguished by Sex')"
      ]
     },
     "execution_count": 34,
     "metadata": {},
     "output_type": "execute_result"
    },
    {
     "data": {
      "image/png": "[encoded data removed]",
      "text/plain": [
       "<Figure size 768.85x648 with 1 Axes>"
      ]
     },
     "metadata": {},
     "output_type": "display_data"
    }
   ],
   "source": [
    "sns.set(style=\"whitegrid\")\n",
    "g = sns.catplot(x=\"Seating Position\", y=\"Injury Severity\", hue=\"Sex\", data=bardata,\n",
    "                height=9, kind=\"bar\", palette=\"muted\", aspect=10/9)\n",
    "g.despine(left=True)\n",
    "g.set_ylabels(\"Probability of Getting Injured Severely\")\n",
    "g.fig.suptitle('Probability of Getting Injured Severely when Sitting in Different Positions in Cars, distinguished by Sex')"
   ]
  },
  {
   "cell_type": "markdown",
   "metadata": {},
   "source": [
    "# Boxplot"
   ]
  },
  {
   "cell_type": "code",
   "execution_count": 43,
   "metadata": {
    "ExecuteTime": {
     "end_time": "2019-05-16T20:55:38.489406Z",
     "start_time": "2019-05-16T20:55:37.927766Z"
    }
   },
   "outputs": [
    {
     "data": {
      "text/html": [
       "<div>\n",
       "<style scoped>\n",
       "    .dataframe tbody tr th:only-of-type {\n",
       "        vertical-align: middle;\n",
       "    }\n",
       "\n",
       "    .dataframe tbody tr th {\n",
       "        vertical-align: top;\n",
       "    }\n",
       "\n",
       "    .dataframe thead th {\n",
       "        text-align: right;\n",
       "    }\n",
       "</style>\n",
       "<table border=\"1\" class=\"dataframe\">\n",
       "  <thead>\n",
       "    <tr style=\"text-align: right;\">\n",
       "      <th></th>\n",
       "      <th>Year</th>\n",
       "      <th>Crash Descriptor</th>\n",
       "      <th>Time</th>\n",
       "      <th>Date</th>\n",
       "      <th>Day of Week</th>\n",
       "      <th>Police Report</th>\n",
       "      <th>Lighting Conditions</th>\n",
       "      <th>Municipality</th>\n",
       "      <th>Collision Type Descriptor</th>\n",
       "      <th>County Name</th>\n",
       "      <th>Road Descriptor</th>\n",
       "      <th>Weather Conditions</th>\n",
       "      <th>Traffic Control Device</th>\n",
       "      <th>Road Surface Conditions</th>\n",
       "      <th>DOT Reference Marker Location</th>\n",
       "      <th>Pedestrian Bicyclist Action</th>\n",
       "      <th>Event Descriptor</th>\n",
       "      <th>Number of Vehicles Involved</th>\n",
       "      <th>Hour</th>\n",
       "    </tr>\n",
       "  </thead>\n",
       "  <tbody>\n",
       "    <tr>\n",
       "      <th>0</th>\n",
       "      <td>2014</td>\n",
       "      <td>Property Damage Accident</td>\n",
       "      <td>8:30</td>\n",
       "      <td>2014-01-03T00:00:00</td>\n",
       "      <td>Friday</td>\n",
       "      <td>Y</td>\n",
       "      <td>Daylight</td>\n",
       "      <td>WATERTOWN</td>\n",
       "      <td>OVERTAKING</td>\n",
       "      <td>JEFFERSON</td>\n",
       "      <td>Straight and Level</td>\n",
       "      <td>Clear</td>\n",
       "      <td>None</td>\n",
       "      <td>Snow/Ice</td>\n",
       "      <td>NaN</td>\n",
       "      <td>Not Applicable</td>\n",
       "      <td>Other Motor Vehicle, Collision With</td>\n",
       "      <td>2</td>\n",
       "      <td>8</td>\n",
       "    </tr>\n",
       "    <tr>\n",
       "      <th>1</th>\n",
       "      <td>2014</td>\n",
       "      <td>Property Damage &amp; Injury Accident</td>\n",
       "      <td>14:48</td>\n",
       "      <td>2014-01-03T00:00:00</td>\n",
       "      <td>Friday</td>\n",
       "      <td>Y</td>\n",
       "      <td>Daylight</td>\n",
       "      <td>WATERTOWN</td>\n",
       "      <td>REAR END</td>\n",
       "      <td>JEFFERSON</td>\n",
       "      <td>Straight and Level</td>\n",
       "      <td>Cloudy</td>\n",
       "      <td>Traffic Signal</td>\n",
       "      <td>Snow/Ice</td>\n",
       "      <td>3 73022024</td>\n",
       "      <td>Not Applicable</td>\n",
       "      <td>Other Motor Vehicle, Collision With</td>\n",
       "      <td>2</td>\n",
       "      <td>14</td>\n",
       "    </tr>\n",
       "    <tr>\n",
       "      <th>2</th>\n",
       "      <td>2014</td>\n",
       "      <td>Property Damage &amp; Injury Accident</td>\n",
       "      <td>11:30</td>\n",
       "      <td>2014-01-04T00:00:00</td>\n",
       "      <td>Saturday</td>\n",
       "      <td>Y</td>\n",
       "      <td>Daylight</td>\n",
       "      <td>WATERTOWN</td>\n",
       "      <td>OTHER</td>\n",
       "      <td>JEFFERSON</td>\n",
       "      <td>Straight and Grade</td>\n",
       "      <td>Clear</td>\n",
       "      <td>None</td>\n",
       "      <td>Snow/Ice</td>\n",
       "      <td>NaN</td>\n",
       "      <td>Not Applicable</td>\n",
       "      <td>Building/Wall, Collision With Fixed Object</td>\n",
       "      <td>1</td>\n",
       "      <td>11</td>\n",
       "    </tr>\n",
       "    <tr>\n",
       "      <th>3</th>\n",
       "      <td>2014</td>\n",
       "      <td>Property Damage Accident</td>\n",
       "      <td>7:45</td>\n",
       "      <td>2014-01-03T00:00:00</td>\n",
       "      <td>Friday</td>\n",
       "      <td>Y</td>\n",
       "      <td>Daylight</td>\n",
       "      <td>WATERTOWN</td>\n",
       "      <td>RIGHT ANGLE</td>\n",
       "      <td>JEFFERSON</td>\n",
       "      <td>Straight and Level</td>\n",
       "      <td>Clear</td>\n",
       "      <td>Stop Sign</td>\n",
       "      <td>Snow/Ice</td>\n",
       "      <td>NaN</td>\n",
       "      <td>Not Applicable</td>\n",
       "      <td>Other Motor Vehicle, Collision With</td>\n",
       "      <td>2</td>\n",
       "      <td>7</td>\n",
       "    </tr>\n",
       "    <tr>\n",
       "      <th>4</th>\n",
       "      <td>2014</td>\n",
       "      <td>Property Damage Accident</td>\n",
       "      <td>15:11</td>\n",
       "      <td>2014-01-04T00:00:00</td>\n",
       "      <td>Saturday</td>\n",
       "      <td>Y</td>\n",
       "      <td>Daylight</td>\n",
       "      <td>WATERTOWN</td>\n",
       "      <td>RIGHT ANGLE</td>\n",
       "      <td>JEFFERSON</td>\n",
       "      <td>Straight and Level</td>\n",
       "      <td>Cloudy</td>\n",
       "      <td>None</td>\n",
       "      <td>Wet</td>\n",
       "      <td>3 73022020</td>\n",
       "      <td>Not Applicable</td>\n",
       "      <td>Other Motor Vehicle, Collision With</td>\n",
       "      <td>2</td>\n",
       "      <td>15</td>\n",
       "    </tr>\n",
       "  </tbody>\n",
       "</table>\n",
       "</div>"
      ],
      "text/plain": [
       "   Year                   Crash Descriptor   Time                 Date  \\\n",
       "0  2014           Property Damage Accident   8:30  2014-01-03T00:00:00   \n",
       "1  2014  Property Damage & Injury Accident  14:48  2014-01-03T00:00:00   \n",
       "2  2014  Property Damage & Injury Accident  11:30  2014-01-04T00:00:00   \n",
       "3  2014           Property Damage Accident   7:45  2014-01-03T00:00:00   \n",
       "4  2014           Property Damage Accident  15:11  2014-01-04T00:00:00   \n",
       "\n",
       "  Day of Week Police Report Lighting Conditions Municipality  \\\n",
       "0      Friday             Y            Daylight    WATERTOWN   \n",
       "1      Friday             Y            Daylight    WATERTOWN   \n",
       "2    Saturday             Y            Daylight    WATERTOWN   \n",
       "3      Friday             Y            Daylight    WATERTOWN   \n",
       "4    Saturday             Y            Daylight    WATERTOWN   \n",
       "\n",
       "  Collision Type Descriptor County Name     Road Descriptor  \\\n",
       "0                OVERTAKING   JEFFERSON  Straight and Level   \n",
       "1                  REAR END   JEFFERSON  Straight and Level   \n",
       "2                     OTHER   JEFFERSON  Straight and Grade   \n",
       "3               RIGHT ANGLE   JEFFERSON  Straight and Level   \n",
       "4               RIGHT ANGLE   JEFFERSON  Straight and Level   \n",
       "\n",
       "  Weather Conditions Traffic Control Device Road Surface Conditions  \\\n",
       "0              Clear                   None                Snow/Ice   \n",
       "1             Cloudy         Traffic Signal                Snow/Ice   \n",
       "2              Clear                   None                Snow/Ice   \n",
       "3              Clear              Stop Sign                Snow/Ice   \n",
       "4             Cloudy                   None                     Wet   \n",
       "\n",
       "  DOT Reference Marker Location Pedestrian Bicyclist Action  \\\n",
       "0                           NaN              Not Applicable   \n",
       "1                    3 73022024              Not Applicable   \n",
       "2                           NaN              Not Applicable   \n",
       "3                           NaN              Not Applicable   \n",
       "4                    3 73022020              Not Applicable   \n",
       "\n",
       "                             Event Descriptor  Number of Vehicles Involved  \\\n",
       "0         Other Motor Vehicle, Collision With                            2   \n",
       "1         Other Motor Vehicle, Collision With                            2   \n",
       "2  Building/Wall, Collision With Fixed Object                            1   \n",
       "3         Other Motor Vehicle, Collision With                            2   \n",
       "4         Other Motor Vehicle, Collision With                            2   \n",
       "\n",
       "   Hour  \n",
       "0     8  \n",
       "1    14  \n",
       "2    11  \n",
       "3     7  \n",
       "4    15  "
      ]
     },
     "execution_count": 43,
     "metadata": {},
     "output_type": "execute_result"
    }
   ],
   "source": [
    "boxdata = case.copy()\n",
    "boxdata['Hour'] = boxdata['Time'].apply(lambda x:int(x.split(':')[0]))\n",
    "boxdata.head()"
   ]
  },
  {
   "cell_type": "code",
   "execution_count": 46,
   "metadata": {
    "ExecuteTime": {
     "end_time": "2019-05-16T20:57:37.886820Z",
     "start_time": "2019-05-16T20:57:37.086762Z"
    }
   },
   "outputs": [
    {
     "data": {
      "text/plain": [
       "Text(0.5, 1.0, 'Boxplot of Hour at the Crash for each Dat of Week')"
      ]
     },
     "execution_count": 46,
     "metadata": {},
     "output_type": "execute_result"
    },
    {
     "data": {
      "image/png": "[encoded data removed]",
      "text/plain": [
       "<Figure size 720x432 with 1 Axes>"
      ]
     },
     "metadata": {},
     "output_type": "display_data"
    }
   ],
   "source": [
    "plt.figure(figsize=(10,6))\n",
    "sns.boxplot(x=\"Day of Week\", y=\"Hour\", data=boxdata)\n",
    "plt.title('Boxplot of Hour at the Crash for each Dat of Week')"
   ]
  },
  {
   "cell_type": "markdown",
   "metadata": {},
   "source": [
    "# Scatterplot"
   ]
  },
  {
   "cell_type": "code",
   "execution_count": 81,
   "metadata": {
    "ExecuteTime": {
     "end_time": "2019-05-16T21:41:45.186382Z",
     "start_time": "2019-05-16T21:41:44.168279Z"
    }
   },
   "outputs": [
    {
     "data": {
      "text/html": [
       "<div>\n",
       "<style scoped>\n",
       "    .dataframe tbody tr th:only-of-type {\n",
       "        vertical-align: middle;\n",
       "    }\n",
       "\n",
       "    .dataframe tbody tr th {\n",
       "        vertical-align: top;\n",
       "    }\n",
       "\n",
       "    .dataframe thead th {\n",
       "        text-align: right;\n",
       "    }\n",
       "</style>\n",
       "<table border=\"1\" class=\"dataframe\">\n",
       "  <thead>\n",
       "    <tr style=\"text-align: right;\">\n",
       "      <th></th>\n",
       "      <th>Year</th>\n",
       "      <th>Month</th>\n",
       "      <th>Count</th>\n",
       "    </tr>\n",
       "  </thead>\n",
       "  <tbody>\n",
       "    <tr>\n",
       "      <th>0</th>\n",
       "      <td>2014</td>\n",
       "      <td>01</td>\n",
       "      <td>29762</td>\n",
       "    </tr>\n",
       "    <tr>\n",
       "      <th>1</th>\n",
       "      <td>2014</td>\n",
       "      <td>02</td>\n",
       "      <td>24556</td>\n",
       "    </tr>\n",
       "    <tr>\n",
       "      <th>2</th>\n",
       "      <td>2014</td>\n",
       "      <td>03</td>\n",
       "      <td>22740</td>\n",
       "    </tr>\n",
       "    <tr>\n",
       "      <th>3</th>\n",
       "      <td>2014</td>\n",
       "      <td>04</td>\n",
       "      <td>20284</td>\n",
       "    </tr>\n",
       "    <tr>\n",
       "      <th>4</th>\n",
       "      <td>2014</td>\n",
       "      <td>05</td>\n",
       "      <td>23867</td>\n",
       "    </tr>\n",
       "  </tbody>\n",
       "</table>\n",
       "</div>"
      ],
      "text/plain": [
       "   Year Month  Count\n",
       "0  2014    01  29762\n",
       "1  2014    02  24556\n",
       "2  2014    03  22740\n",
       "3  2014    04  20284\n",
       "4  2014    05  23867"
      ]
     },
     "execution_count": 81,
     "metadata": {},
     "output_type": "execute_result"
    }
   ],
   "source": [
    "scatterdata = case.copy()\n",
    "scatterdata['Date'] = scatterdata['Date'].apply(lambda x:x.split('-')[1])\n",
    "scatterdata = scatterdata.groupby(['Year', 'Date']).count().\\\n",
    "                    reset_index()[['Year','Date','Time']].rename(columns={'Date':'Month', 'Time':'Count'})\n",
    "scatterdata = scatterdata[scatterdata['Year'].isin([2014, 2015, 2016])]\n",
    "scatterdata.head()"
   ]
  },
  {
   "cell_type": "code",
   "execution_count": 85,
   "metadata": {
    "ExecuteTime": {
     "end_time": "2019-05-16T21:47:14.304115Z",
     "start_time": "2019-05-16T21:47:14.042777Z"
    }
   },
   "outputs": [
    {
     "data": {
      "text/plain": [
       "Text(0.5, 1.0, 'Scatterplot of Number of Crashes in each Month and Year')"
      ]
     },
     "execution_count": 85,
     "metadata": {},
     "output_type": "execute_result"
    },
    {
     "data": {
      "image/png": "[encoded data removed]",
      "text/plain": [
       "<Figure size 720x432 with 1 Axes>"
      ]
     },
     "metadata": {},
     "output_type": "display_data"
    }
   ],
   "source": [
    "plt.figure(figsize=(10,6))\n",
    "cmap = sns.cubehelix_palette(dark=.3, light=.8, as_cmap=True)\n",
    "sns.scatterplot(x=\"Month\", y=\"Count\", hue=\"Year\", style=\"Year\",\n",
    "                data=scatterdata, palette=cmap, s=120)\n",
    "plt.legend(bbox_to_anchor=(1.05, 1), loc=2, borderaxespad=0.)\n",
    "plt.ylabel('Number of Crashes')\n",
    "plt.title('Scatterplot of Number of Crashes in each Month and Year')"
   ]
  },
  {
   "cell_type": "markdown",
   "metadata": {},
   "source": [
    "# Bubble Map"
   ]
  },
  {
   "cell_type": "markdown",
   "metadata": {
    "ExecuteTime": {
     "end_time": "2019-05-16T21:50:49.883792Z",
     "start_time": "2019-05-16T21:50:49.781490Z"
    }
   },
   "source": [
    "Tableu is used for bubble map."
   ]
  },
  {
   "cell_type": "markdown",
   "metadata": {},
   "source": [
    "# Chloropleth Map"
   ]
  },
  {
   "cell_type": "markdown",
   "metadata": {
    "ExecuteTime": {
     "end_time": "2019-05-16T21:50:49.883792Z",
     "start_time": "2019-05-16T21:50:49.781490Z"
    }
   },
   "source": [
    "Tableu is used for Chloropleth Map."
   ]
  },
  {
   "cell_type": "markdown",
   "metadata": {},
   "source": [
    "# Connection Map"
   ]
  },
  {
   "cell_type": "markdown",
   "metadata": {},
   "source": [
    "Connection Map cannot be plotted with data from this dataset."
   ]
  },
  {
   "cell_type": "markdown",
   "metadata": {},
   "source": [
    "# Heat Map"
   ]
  },
  {
   "cell_type": "code",
   "execution_count": 127,
   "metadata": {
    "ExecuteTime": {
     "end_time": "2019-05-16T23:46:07.870983Z",
     "start_time": "2019-05-16T23:46:03.770886Z"
    }
   },
   "outputs": [],
   "source": [
    "heatdata = vehicle.merge(individual, on='Case Vehicle ID', how='inner')"
   ]
  },
  {
   "cell_type": "code",
   "execution_count": 102,
   "metadata": {
    "ExecuteTime": {
     "end_time": "2019-05-16T23:21:52.189171Z",
     "start_time": "2019-05-16T23:21:51.943532Z"
    }
   },
   "outputs": [
    {
     "data": {
      "text/plain": [
       "['4 DOOR SEDAN',\n",
       " 'SUBURBAN',\n",
       " 'PICKUP TRUCK',\n",
       " 'UNKNOWN VEHICLE',\n",
       " '2 DOOR SEDAN',\n",
       " 'PEDESTRIAN',\n",
       " 'BUS (OMNIBUS)',\n",
       " 'VAN TRUCK',\n",
       " 'SEDAN',\n",
       " 'BICYCLIST',\n",
       " 'MOTORCYCLE',\n",
       " 'TRACTOR',\n",
       " 'TAXI',\n",
       " 'CONVERTIBLE',\n",
       " 'DUMP',\n",
       " 'UNKNOWN TRUCK',\n",
       " 'DELIVERY TRUCK',\n",
       " 'POLICE VEHICLE',\n",
       " 'UTILITY',\n",
       " 'FIRE VEHICLE',\n",
       " 'Not Entered',\n",
       " 'UNKNOWN CAR',\n",
       " 'FLAT BED TRUCK',\n",
       " 'TOW TRUCK',\n",
       " 'AMBULANCE',\n",
       " 'REFRIGERATOR TRUCK',\n",
       " 'TANK TRUCK',\n",
       " 'OTHER PEDESTRIAN',\n",
       " 'STAKE TRUCK',\n",
       " 'HOUSE ON WHEELS']"
      ]
     },
     "execution_count": 102,
     "metadata": {},
     "output_type": "execute_result"
    }
   ],
   "source": [
    "# vehicles with most carsh records\n",
    "[elem[0] for elem in sorted(list(Counter(heatdata['Vehicle Body Type']).items()), key=lambda x:-x[1])[:30]]"
   ]
  },
  {
   "cell_type": "code",
   "execution_count": 105,
   "metadata": {
    "ExecuteTime": {
     "end_time": "2019-05-16T23:31:31.661642Z",
     "start_time": "2019-05-16T23:31:31.655338Z"
    }
   },
   "outputs": [],
   "source": [
    "# vehicle types in consideration\n",
    "vehicle_type = {'4 DOOR SEDAN': 'sedan',\n",
    "                 'SUBURBAN': 'suburban',\n",
    "                 'PICKUP TRUCK': 'truck',\n",
    "                 '2 DOOR SEDAN': 'sedan',\n",
    "                 'PEDESTRIAN': 'pedestrian',\n",
    "                 'BUS (OMNIBUS)': 'bus',\n",
    "                 'VAN TRUCK': 'truck',\n",
    "                 'SEDAN': 'sedan',\n",
    "                 'BICYCLIST': 'bicycle',\n",
    "                 'MOTORCYCLE': 'motorcycle',\n",
    "                 'TAXI': 'taxi',\n",
    "                 'CONVERTIBLE': 'convertible',\n",
    "                 'UNKNOWN TRUCK': 'truck',\n",
    "                 'DELIVERY TRUCK': 'truck',\n",
    "                 'FLAT BED TRUCK': 'truck',\n",
    "                 'TOW TRUCK': 'truck',\n",
    "                 'REFRIGERATOR TRUCK': 'truck',\n",
    "                 'TANK TRUCK': 'truck',\n",
    "                 'OTHER PEDESTRIAN': 'pedestrian',\n",
    "                 'STAKE TRUCK': 'truck',\n",
    "                 'HOUSE ON WHEELS': 'house on wheels'}"
   ]
  },
  {
   "cell_type": "code",
   "execution_count": 128,
   "metadata": {
    "ExecuteTime": {
     "end_time": "2019-05-16T23:46:12.718166Z",
     "start_time": "2019-05-16T23:46:09.984231Z"
    }
   },
   "outputs": [
    {
     "data": {
      "text/html": [
       "<div>\n",
       "<style scoped>\n",
       "    .dataframe tbody tr th:only-of-type {\n",
       "        vertical-align: middle;\n",
       "    }\n",
       "\n",
       "    .dataframe tbody tr th {\n",
       "        vertical-align: top;\n",
       "    }\n",
       "\n",
       "    .dataframe thead th {\n",
       "        text-align: right;\n",
       "    }\n",
       "</style>\n",
       "<table border=\"1\" class=\"dataframe\">\n",
       "  <thead>\n",
       "    <tr style=\"text-align: right;\">\n",
       "      <th></th>\n",
       "      <th>Vehicle Body Type</th>\n",
       "      <th>Injury Severity</th>\n",
       "      <th>Count</th>\n",
       "      <th>Totals</th>\n",
       "      <th>Percentage</th>\n",
       "    </tr>\n",
       "  </thead>\n",
       "  <tbody>\n",
       "    <tr>\n",
       "      <th>0</th>\n",
       "      <td>bicycle</td>\n",
       "      <td>Killed</td>\n",
       "      <td>119</td>\n",
       "      <td>15997</td>\n",
       "      <td>0.007439</td>\n",
       "    </tr>\n",
       "    <tr>\n",
       "      <th>1</th>\n",
       "      <td>bicycle</td>\n",
       "      <td>Minor</td>\n",
       "      <td>8882</td>\n",
       "      <td>15997</td>\n",
       "      <td>0.555229</td>\n",
       "    </tr>\n",
       "    <tr>\n",
       "      <th>2</th>\n",
       "      <td>bicycle</td>\n",
       "      <td>Moderate</td>\n",
       "      <td>5067</td>\n",
       "      <td>15997</td>\n",
       "      <td>0.316747</td>\n",
       "    </tr>\n",
       "    <tr>\n",
       "      <th>3</th>\n",
       "      <td>bicycle</td>\n",
       "      <td>Severe</td>\n",
       "      <td>1656</td>\n",
       "      <td>15997</td>\n",
       "      <td>0.103519</td>\n",
       "    </tr>\n",
       "    <tr>\n",
       "      <th>4</th>\n",
       "      <td>bicycle</td>\n",
       "      <td>Uninjured</td>\n",
       "      <td>273</td>\n",
       "      <td>15997</td>\n",
       "      <td>0.017066</td>\n",
       "    </tr>\n",
       "  </tbody>\n",
       "</table>\n",
       "</div>"
      ],
      "text/plain": [
       "  Vehicle Body Type Injury Severity  Count  Totals  Percentage\n",
       "0           bicycle          Killed    119   15997    0.007439\n",
       "1           bicycle           Minor   8882   15997    0.555229\n",
       "2           bicycle        Moderate   5067   15997    0.316747\n",
       "3           bicycle          Severe   1656   15997    0.103519\n",
       "4           bicycle       Uninjured    273   15997    0.017066"
      ]
     },
     "execution_count": 128,
     "metadata": {},
     "output_type": "execute_result"
    }
   ],
   "source": [
    "heatdata = heatdata[heatdata['Vehicle Body Type'].isin(vehicle_type)]\n",
    "heatdata['Vehicle Body Type'] = heatdata['Vehicle Body Type'].apply(lambda x: vehicle_type[x])\n",
    "heatdata2 = heatdata[['Vehicle Body Type', 'Injury Severity', 'Age']]\n",
    "heatdata2 = heatdata2[heatdata2['Injury Severity']!='Injured with Unkn Severity']\n",
    "totals = heatdata2.groupby('Vehicle Body Type').count().reset_index()[['Vehicle Body Type', 'Age']].rename(columns={'Age':'Totals'})\n",
    "heatdata2 = heatdata2.groupby(['Vehicle Body Type', 'Injury Severity']).count().reset_index().rename(columns={'Age':'Count'})\n",
    "heatdata2 = heatdata2.merge(totals, on='Vehicle Body Type')\n",
    "heatdata2['Percentage'] = heatdata2['Count']/heatdata2['Totals']\n",
    "heatdata2.head()"
   ]
  },
  {
   "cell_type": "code",
   "execution_count": 146,
   "metadata": {
    "ExecuteTime": {
     "end_time": "2019-05-17T00:00:00.341134Z",
     "start_time": "2019-05-17T00:00:00.085355Z"
    }
   },
   "outputs": [
    {
     "data": {
      "text/plain": [
       "Text(0.5, 1.0, 'Heat Map of Percentage of Crashes at each Injury Severity Level with different Vehicle Type')"
      ]
     },
     "execution_count": 146,
     "metadata": {},
     "output_type": "execute_result"
    },
    {
     "data": {
      "image/png": "[encoded data removed]",
      "text/plain": [
       "<Figure size 720x432 with 2 Axes>"
      ]
     },
     "metadata": {},
     "output_type": "display_data"
    }
   ],
   "source": [
    "plt.figure(figsize=(10,6))\n",
    "heat = heatdata2.pivot(\"Injury Severity\", \"Vehicle Body Type\", \"Percentage\")\n",
    "heat.index = pd.CategoricalIndex(heat.index, categories= [\"Uninjured\", 'Minor', 'Moderate', 'Severe', 'Killed'])\n",
    "heat.sort_index(level=0, inplace=True)\n",
    "heat = heat.transpose()\n",
    "cmap = sns.cm.rocket_r\n",
    "sns.heatmap(heat, vmin=0.01, vmax=0.9, cmap=cmap)\n",
    "plt.title('Heat Map of Percentage of Crashes at each Injury Severity Level with different Vehicle Type')"
   ]
  },
  {
   "cell_type": "markdown",
   "metadata": {},
   "source": [
    "# Stacked area graph"
   ]
  },
  {
   "cell_type": "markdown",
   "metadata": {},
   "source": [
    "Tableu is used for stacked area graph."
   ]
  },
  {
   "cell_type": "markdown",
   "metadata": {},
   "source": [
    "# Treemapping"
   ]
  },
  {
   "cell_type": "markdown",
   "metadata": {},
   "source": [
    "Tableu is used for treemap."
   ]
  },
  {
   "cell_type": "markdown",
   "metadata": {
    "ExecuteTime": {
     "end_time": "2019-05-17T00:21:09.332791Z",
     "start_time": "2019-05-17T00:21:09.220575Z"
    }
   },
   "source": [
    "# An interactive plot"
   ]
  },
  {
   "cell_type": "code",
   "execution_count": 175,
   "metadata": {
    "ExecuteTime": {
     "end_time": "2019-05-17T00:47:48.785656Z",
     "start_time": "2019-05-17T00:47:48.777637Z"
    }
   },
   "outputs": [
    {
     "data": {
      "text/html": [
       "<div>\n",
       "<style scoped>\n",
       "    .dataframe tbody tr th:only-of-type {\n",
       "        vertical-align: middle;\n",
       "    }\n",
       "\n",
       "    .dataframe tbody tr th {\n",
       "        vertical-align: top;\n",
       "    }\n",
       "\n",
       "    .dataframe thead th {\n",
       "        text-align: right;\n",
       "    }\n",
       "</style>\n",
       "<table border=\"1\" class=\"dataframe\">\n",
       "  <thead>\n",
       "    <tr style=\"text-align: right;\">\n",
       "      <th></th>\n",
       "      <th>Facility</th>\n",
       "      <th>Year</th>\n",
       "      <th>Total  Number of Motor Vehicle Crashes</th>\n",
       "      <th>Number of Fatal Crashes</th>\n",
       "    </tr>\n",
       "  </thead>\n",
       "  <tbody>\n",
       "    <tr>\n",
       "      <th>0</th>\n",
       "      <td>Bayonne Bridge</td>\n",
       "      <td>2000</td>\n",
       "      <td>24</td>\n",
       "      <td>0</td>\n",
       "    </tr>\n",
       "    <tr>\n",
       "      <th>1</th>\n",
       "      <td>Bayonne Bridge</td>\n",
       "      <td>2001</td>\n",
       "      <td>19</td>\n",
       "      <td>1</td>\n",
       "    </tr>\n",
       "    <tr>\n",
       "      <th>2</th>\n",
       "      <td>Bayonne Bridge</td>\n",
       "      <td>2002</td>\n",
       "      <td>13</td>\n",
       "      <td>0</td>\n",
       "    </tr>\n",
       "    <tr>\n",
       "      <th>3</th>\n",
       "      <td>Bayonne Bridge</td>\n",
       "      <td>2003</td>\n",
       "      <td>13</td>\n",
       "      <td>0</td>\n",
       "    </tr>\n",
       "    <tr>\n",
       "      <th>4</th>\n",
       "      <td>Bayonne Bridge</td>\n",
       "      <td>2004</td>\n",
       "      <td>11</td>\n",
       "      <td>0</td>\n",
       "    </tr>\n",
       "  </tbody>\n",
       "</table>\n",
       "</div>"
      ],
      "text/plain": [
       "         Facility  Year  Total  Number of Motor Vehicle Crashes  \\\n",
       "0  Bayonne Bridge  2000                                      24   \n",
       "1  Bayonne Bridge  2001                                      19   \n",
       "2  Bayonne Bridge  2002                                      13   \n",
       "3  Bayonne Bridge  2003                                      13   \n",
       "4  Bayonne Bridge  2004                                      11   \n",
       "\n",
       "   Number of Fatal Crashes  \n",
       "0                        0  \n",
       "1                        1  \n",
       "2                        0  \n",
       "3                        0  \n",
       "4                        0  "
      ]
     },
     "execution_count": 175,
     "metadata": {},
     "output_type": "execute_result"
    }
   ],
   "source": [
    "facility.head()"
   ]
  },
  {
   "cell_type": "code",
   "execution_count": 176,
   "metadata": {
    "ExecuteTime": {
     "end_time": "2019-05-17T00:47:53.517708Z",
     "start_time": "2019-05-17T00:47:53.514675Z"
    }
   },
   "outputs": [],
   "source": [
    "interdata = facility.copy()"
   ]
  },
  {
   "cell_type": "code",
   "execution_count": 181,
   "metadata": {
    "ExecuteTime": {
     "end_time": "2019-05-17T00:49:18.823944Z",
     "start_time": "2019-05-17T00:49:17.109921Z"
    }
   },
   "outputs": [
    {
     "data": {
      "text/html": [
       "<iframe id=\"igraph\" scrolling=\"no\" style=\"border:none;\" seamless=\"seamless\" src=\"https://plot.ly/~helloyuhan/12.embed\" height=\"525px\" width=\"100%\"></iframe>"
      ],
      "text/plain": [
       "<plotly.tools.PlotlyDisplay object>"
      ]
     },
     "execution_count": 181,
     "metadata": {},
     "output_type": "execute_result"
    }
   ],
   "source": [
    "i = 1\n",
    "data = []\n",
    "for f in np.unique(interdata.Facility):\n",
    "    d = interdata[interdata['Facility']==f]\n",
    "    trace = go.Scatter(\n",
    "        x = list(range(2000, 2016)),\n",
    "        y = d['Total  Number of Motor Vehicle Crashes'],\n",
    "        mode = 'lines',\n",
    "        marker = dict(\n",
    "            size = 10),\n",
    "        name = f\n",
    "    )\n",
    "    data.append(trace)\n",
    "    i += 1\n",
    "\n",
    "layout= go.Layout(\n",
    "    title= 'Total Number of Motor Vehicle Crashes at Different Facilities from 2000 to 2015',\n",
    "    hovermode= 'closest',\n",
    "    xaxis= dict(\n",
    "        title= 'Year',\n",
    "        ticklen= 5,\n",
    "        zeroline= False,\n",
    "        gridwidth= 2,\n",
    "    ),\n",
    "    yaxis=dict(\n",
    "        title= 'Number of Motor Vehicle Crashes',\n",
    "        ticklen= 5,\n",
    "        gridwidth= 2,\n",
    "    ),\n",
    "    showlegend= True\n",
    ")\n",
    "\n",
    "fig= go.Figure(data=data, layout=layout)\n",
    "py.iplot(fig, filename='final_interactive_plot')"
   ]
  },
  {
   "cell_type": "code",
   "execution_count": null,
   "metadata": {},
   "outputs": [],
   "source": []
  }
 ],
 "metadata": {
  "kernelspec": {
   "display_name": "Python 3",
   "language": "python",
   "name": "python3"
  },
  "language_info": {
   "codemirror_mode": {
    "name": "ipython",
    "version": 3
   },
   "file_extension": ".py",
   "mimetype": "text/x-python",
   "name": "python",
   "nbconvert_exporter": "python",
   "pygments_lexer": "ipython3",
   "version": "3.6.7"
  },
  "toc": {
   "base_numbering": 1,
   "nav_menu": {},
   "number_sections": true,
   "sideBar": true,
   "skip_h1_title": false,
   "title_cell": "Table of Contents",
   "title_sidebar": "Contents",
   "toc_cell": false,
   "toc_position": {},
   "toc_section_display": true,
   "toc_window_display": false
  }
 },
 "nbformat": 4,
 "nbformat_minor": 2
}
